{
 "cells": [
  {
   "cell_type": "markdown",
   "metadata": {},
   "source": [
    "# NumPy basics"
   ]
  },
  {
   "cell_type": "markdown",
   "metadata": {},
   "source": [
    "NumPy is a library for the Python programming language, adding support for large, multi-dimensional arrays and matrices, along with a large collection of high-level mathematical functions to operate on these arrays."
   ]
  },
  {
   "cell_type": "code",
   "execution_count": null,
   "metadata": {},
   "outputs": [],
   "source": [
    "import numpy as np"
   ]
  },
  {
   "cell_type": "code",
   "execution_count": null,
   "metadata": {},
   "outputs": [],
   "source": [
    "#In order to create an array there are several methods that we can implement:\n",
    "\n",
    "#Conversion from other Python structures\n",
    "#Intrinsic numpy array creation functions (arrange, array, ones, zeros)\n",
    "#Replicating, joining or mutating existing arrays\n",
    "#Use of special library functions"
   ]
  },
  {
   "cell_type": "markdown",
   "metadata": {},
   "source": [
    "### Converting Python sequences to NumPy arrays"
   ]
  },
  {
   "cell_type": "code",
   "execution_count": null,
   "metadata": {},
   "outputs": [],
   "source": [
    "#NumPy arrays can be defined using Python sequences such as lists and tuples. Lists and tuples can define “ndarray” creation\n",
    "\n",
    "#A list of numbers will create a 1D array\n",
    "#A list of lists will create a 2D array\n",
    "#Further nested lists will create higher dimensional arrays\n"
   ]
  },
  {
   "cell_type": "code",
   "execution_count": null,
   "metadata": {},
   "outputs": [],
   "source": [
    "#Create an array of each type\n",
    "\n",
    "\"Your code goes here\""
   ]
  },
  {
   "cell_type": "code",
   "execution_count": null,
   "metadata": {},
   "outputs": [],
   "source": [
    "#When we use np.array to define a new array, we should consider the dtype of the elements in the array, which can be specified \n",
    "#explicitly. When we perform operations with two arrays of the same dtype the resulting array is the same type. \n",
    "#When we perform operations with arrays with different dtype, \n",
    "#NumPy will assign a new type that satisfies all of the array elements involved in the computation.\n",
    "\n",
    "#Creating an array and specifying the dtype\n",
    "\n",
    "a1=np.array([1,2,3],dtype=np.int32)"
   ]
  },
  {
   "cell_type": "markdown",
   "metadata": {},
   "source": [
    "### NumPy array creation functions"
   ]
  },
  {
   "cell_type": "code",
   "execution_count": null,
   "metadata": {},
   "outputs": [],
   "source": [
    "#There are over 40 built in functions for creating arrays, these functions can be split into roughly three categories, \n",
    "#based on the dimension of the array they create: 1D arrays, 2D arrays and ndimensional arrays\n",
    "\n",
    "#Creating 1D arrays using built in functions\n",
    "\n",
    "a1=np.linspace(1,4,6)\n",
    "\n",
    "[1. , 1.6, 2.2, 2.8, 3.4, 4. ]\n",
    "\n",
    "a2=np.arange(1,10,2,dtype=np.int32)\n",
    "\n",
    "[1,3,5,7,9]\n",
    "\n",
    "#Note: best practice for np.arange is to have start, stop and step values as integers.\n",
    "\n",
    "#The advantage of using the np.linspace function is that you guarantee the number of elements and the starting and end points, \n",
    "#unlike the np.arange function which does not include the end value. The default dtypes \n",
    "#for both functions are: np.float64 in the case of the np.linspace function and np.int32 in the case of the np.arange function"
   ]
  },
  {
   "cell_type": "code",
   "execution_count": null,
   "metadata": {},
   "outputs": [],
   "source": [
    "#Create two new arrays using the linspace and arange functions\n",
    "\n",
    "\"Your code goes here\""
   ]
  },
  {
   "cell_type": "code",
   "execution_count": null,
   "metadata": {},
   "outputs": [],
   "source": [
    "#For 2D arrays, we can use functions such as: np.eye, np.diag and np.vander. All of these functions define properties of \n",
    "#special matrices represented as 2D arrays\n",
    "\n",
    "#The function np.eye defines a 2D identity matrix\n",
    "\n",
    "#Creating an identity matrix using np.eye\n",
    "\n",
    "a1=np.eye(3,4)\n",
    "\n",
    "[[1., 0., 0., 0.],\n",
    "[0., 1., 0., 0.],\n",
    "[0., 0., 1., 0.]]\n",
    "\n",
    "a2=np.eye(4)\n",
    "\n",
    "[[1., 0., 0., 0.],\n",
    "[0., 1., 0., 0.],\n",
    "[0., 0., 1., 0.],\n",
    "[0., 0., 0., 1.]]\n",
    "\n",
    "#The function np.diag can define either a square 2D arrays with given values along the diagonal or \n",
    "#if given a 2D array returns a 1D array that is only the diagonal elements\n",
    "\n",
    "#Creating a 2D array using np.diag\n",
    "\n",
    "a1=np.diag([1,2,3])\n",
    "\n",
    "[[1, 0, 0],\n",
    "[0, 2, 0],\n",
    "[0, 0, 3]]\n",
    "\n",
    "a2=np.eye(4)\n",
    "\n",
    "a3=np.diag(a2)\n",
    "\n",
    "[1., 1., 1., 1.]\n",
    "\n",
    "#The ndarray creation functions such as: np.ones, np.zeros and random define arrays based upon desired shape. \n",
    "#The ndarray creation function can create arrays \n",
    "#with any dimension by specifying how many dimensions and length along that dimension in a tuple or list\n",
    "\n",
    "#The np.zeros function will create an array filled with 0 values with the specified shape (the default dtype is float64)\n",
    "\n",
    "#Creating an array using np.zeros\n",
    "\n",
    "a1=np.zeros(4)\n",
    "\n",
    "[0. ,0. ,0. ,0.]\n",
    "\n",
    "a2=np.zeros((4,3))\n",
    "\n",
    "[[0., 0., 0.],\n",
    "[0., 0., 0.],\n",
    "[0., 0., 0.],\n",
    "[0., 0., 0.]]\n",
    "\n",
    "#The np.ones function will create an array filled with 1 values. It is identical to zeros in all other respects\n",
    "\n",
    "#Creating an array using np.ones\n",
    "\n",
    "a1=np.ones((3,3))\n",
    "\n",
    "[1., 1., 1.],\n",
    "[1., 1., 1.],\n",
    "[1., 1., 1.]"
   ]
  },
  {
   "cell_type": "code",
   "execution_count": null,
   "metadata": {},
   "outputs": [],
   "source": [
    "#Create your own arrays using each of the functions above\n",
    "\n",
    "\"Your code goes here\""
   ]
  },
  {
   "cell_type": "markdown",
   "metadata": {},
   "source": [
    "### Replicating, joining and mutating existing arrays"
   ]
  },
  {
   "cell_type": "code",
   "execution_count": null,
   "metadata": {},
   "outputs": [],
   "source": [
    "#Once we have created arrays, we can replicate, join, or mutate those existing arrays to create new arrays. When we assign an array or \n",
    "#its elements to a new variable we have \n",
    "#explicitly copied (np.copy) the array, otherwise the variable is a view into the original array\n",
    "\n",
    "#Creating a view of an array\n",
    "\n",
    "a=np.arange(10)\n",
    "b=a[:6]\n",
    "b+=1\n",
    "\n",
    "print(\"a =\", a, \"b =\", b)\n",
    "\n",
    "a=[1,3,4,5,6,7,8,9,10,11], b=[1,3,4,5,6]\n",
    "\n",
    "#Assigning to a new variable a portion of an original array creates a view of the original array\n",
    "\n",
    "#Creating a copy of an array\n",
    "\n",
    "a=np.arange(10)\n",
    "b=np.copy(a[:6])\n",
    "\n",
    "print(\"a= \", a, \"b =\", b)\n",
    "\n",
    "a=[1,2,3,4,5,6,7,8,9], b=[1,2,3,4,5,6]"
   ]
  },
  {
   "cell_type": "code",
   "execution_count": null,
   "metadata": {},
   "outputs": [],
   "source": [
    "#Create your own array, then generate a copy of it and also a view\n",
    "\n",
    "\"Your code goes here\""
   ]
  },
  {
   "cell_type": "code",
   "execution_count": null,
   "metadata": {},
   "outputs": [],
   "source": [
    "#In order to join arrays we can use a number of routines such as: np.vstack, np.hstack and np.block\n",
    "\n",
    "#Joining arrays using np.vstack and np.hstack\n",
    "\n",
    "a1=np.arange(10)\n",
    "a2=np.arange(10,20)\n",
    "a3=np.vstack((a1,a2))\n",
    "a4=np.hstack((a1,a2))\n",
    "\n",
    "[[ 0,  1,  2,  3,  4,  5,  6,  7,  8,  9],\n",
    "[10, 11, 12, 13, 14, 15, 16, 17, 18, 19]] #vstack\n",
    "\n",
    "[ 0,  1,  2,  3,  4,  5,  6,  7,  8,  9, 10, 11, 12, 13, 14, 15, 16, 17, 18, 19] #hstack"
   ]
  },
  {
   "cell_type": "code",
   "execution_count": null,
   "metadata": {},
   "outputs": [],
   "source": [
    "#Create two ndarrays and perform the operations of vstack and hstack\n",
    "\n",
    "\"Your code goes here\""
   ]
  },
  {
   "cell_type": "code",
   "execution_count": null,
   "metadata": {},
   "outputs": [],
   "source": [
    "##Operating with 1D and 2D arrays\n",
    "\n",
    "a1+a2 #Addition\n",
    "\n",
    "(a3*a4) #Product\n",
    "\n",
    "#Some others..."
   ]
  },
  {
   "cell_type": "code",
   "execution_count": null,
   "metadata": {},
   "outputs": [],
   "source": [
    "#What other basic operations are defined for ndarrays?\n",
    "\n",
    "\"Your code goes here\""
   ]
  }
 ],
 "metadata": {
  "kernelspec": {
   "display_name": "Python 3",
   "language": "python",
   "name": "python3"
  },
  "language_info": {
   "codemirror_mode": {
    "name": "ipython",
    "version": 3
   },
   "file_extension": ".py",
   "mimetype": "text/x-python",
   "name": "python",
   "nbconvert_exporter": "python",
   "pygments_lexer": "ipython3",
   "version": "3.10.11"
  }
 },
 "nbformat": 4,
 "nbformat_minor": 2
}
