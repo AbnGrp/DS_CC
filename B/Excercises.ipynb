{
 "cells": [
  {
   "cell_type": "markdown",
   "metadata": {},
   "source": [
    "# Excercises"
   ]
  },
  {
   "cell_type": "markdown",
   "metadata": {},
   "source": [
    "### Easy exercises"
   ]
  },
  {
   "cell_type": "code",
   "execution_count": 2,
   "metadata": {},
   "outputs": [
    {
     "data": {
      "text/plain": [
       "'ESTERNOCLEIDOMASTOIDEO'"
      ]
     },
     "execution_count": 2,
     "metadata": {},
     "output_type": "execute_result"
    }
   ],
   "source": [
    "#Change the following string so that all its elements are upper case: \"esternocleidomastoideo\"\n",
    "\n",
    "def up(x=\"esternocleidomastoideo\"):\n",
    "    return x.upper()\n",
    "\n",
    "up()"
   ]
  },
  {
   "cell_type": "code",
   "execution_count": 3,
   "metadata": {},
   "outputs": [
    {
     "data": {
      "text/plain": [
       "'categorytheory'"
      ]
     },
     "execution_count": 3,
     "metadata": {},
     "output_type": "execute_result"
    }
   ],
   "source": [
    "#Change the following string so that all its elements are lower case: \"CategoryTheory\"\n",
    "\n",
    "def low(x=\"CategoryTheory\"):\n",
    "    return x.lower()\n",
    "\n",
    "low()"
   ]
  },
  {
   "cell_type": "code",
   "execution_count": 4,
   "metadata": {},
   "outputs": [
    {
     "data": {
      "text/plain": [
       "'Greece'"
      ]
     },
     "execution_count": 4,
     "metadata": {},
     "output_type": "execute_result"
    }
   ],
   "source": [
    "#Change the following string so that it is correctly written: \"greece\" (Hint: recall that names must be written in a certain way)\n",
    "\n",
    "def med(x=\"greece\"):\n",
    "    return x.capitalize()\n",
    "\n",
    "med()"
   ]
  },
  {
   "cell_type": "code",
   "execution_count": null,
   "metadata": {},
   "outputs": [],
   "source": [
    "#Count the number of times the character \"a\" appears in the string \"Manifold\"\n",
    "\n",
    "'''Write your code here...'''"
   ]
  },
  {
   "cell_type": "code",
   "execution_count": null,
   "metadata": {},
   "outputs": [],
   "source": [
    "#What is the position of the character \"e\" in the string \"GaloisTheory\"\n",
    "\n",
    "'''Write your code here...'''"
   ]
  },
  {
   "cell_type": "code",
   "execution_count": null,
   "metadata": {},
   "outputs": [],
   "source": [
    "#Create a coherent phrase with the following strings (apply string methods when necessary to fix the words): \n",
    "#\"sUCk\",\"actioN\",\"MOVIES\",\"CuRRent\" (Hint: the output should be a correctly written sentence)\n",
    "\n",
    "'''Write your code here...'''"
   ]
  },
  {
   "cell_type": "code",
   "execution_count": null,
   "metadata": {},
   "outputs": [],
   "source": [
    "#Write a function such that it takes two numbers and returns a list with the following elements: the sum of the numbers, \n",
    "#their product, the subtraction, the division, the exact division and the module\n",
    "\n",
    "'''Write your code here...'''"
   ]
  },
  {
   "cell_type": "code",
   "execution_count": null,
   "metadata": {},
   "outputs": [],
   "source": [
    "#Write a function such that it takes the age of the user and depending on that it returns wether he/she can watch an R rated movie or \n",
    "#not (Hint: recall that just adults are allowed to watch this type of movies)\n",
    "\n",
    "'''Write your code here...'''"
   ]
  },
  {
   "cell_type": "code",
   "execution_count": null,
   "metadata": {},
   "outputs": [],
   "source": [
    "#Write a function such that it takes the name of a month an returns to which quarter of the year such month belongs to (Hint: recall\n",
    "#that there are four quarters in a year)\n",
    "\n",
    "'''Write your code here...'''"
   ]
  },
  {
   "cell_type": "code",
   "execution_count": null,
   "metadata": {},
   "outputs": [],
   "source": [
    "#Write a function such that it calculates the BMI of a person and returns wether such measure its: underweight, normal, overweight or obese\n",
    "\n",
    "'''Write your code here...'''"
   ]
  },
  {
   "cell_type": "code",
   "execution_count": null,
   "metadata": {},
   "outputs": [],
   "source": [
    "#Write a function that calculates the slope of a line given the points: (1,3) & (4,5)\n",
    "\n",
    "'''Write your code here...'''"
   ]
  },
  {
   "cell_type": "code",
   "execution_count": null,
   "metadata": {},
   "outputs": [],
   "source": [
    "#Write a function such that it can solve equations of the type: ax^2+bx+c=0 (Hint: recall middle school buddy, is not that hard)\n",
    "\n",
    "'''Write your code here...'''"
   ]
  },
  {
   "cell_type": "markdown",
   "metadata": {},
   "source": [
    "#### Medium level excercises"
   ]
  },
  {
   "cell_type": "code",
   "execution_count": null,
   "metadata": {},
   "outputs": [],
   "source": [
    "#Write a function to reverse a given string\n",
    "\n",
    "'''Write your code here...'''"
   ]
  },
  {
   "cell_type": "code",
   "execution_count": null,
   "metadata": {},
   "outputs": [],
   "source": [
    "#Write a function to count the number of vowels in a string\n",
    "\n",
    "'''Write your code here...'''"
   ]
  },
  {
   "cell_type": "code",
   "execution_count": null,
   "metadata": {},
   "outputs": [],
   "source": [
    "#Write a function that checks if a given number is a palindrome\n",
    "\n",
    "'''Write your code here...'''"
   ]
  },
  {
   "cell_type": "code",
   "execution_count": null,
   "metadata": {},
   "outputs": [],
   "source": [
    "#Write a function to find the longest word in a sentence (Hint: use the split method)\n",
    "\n",
    "'''Write your code here...'''"
   ]
  },
  {
   "cell_type": "code",
   "execution_count": null,
   "metadata": {},
   "outputs": [],
   "source": [
    "#Write a function to count the number of words in a sentence\n",
    "\n",
    "'''Write your code here...'''"
   ]
  },
  {
   "cell_type": "code",
   "execution_count": null,
   "metadata": {},
   "outputs": [],
   "source": [
    "#Write a function that removes duplicate characters from a string\n",
    "\n",
    "'''Write your code here...'''"
   ]
  },
  {
   "cell_type": "code",
   "execution_count": null,
   "metadata": {},
   "outputs": [],
   "source": [
    "#Write a function that checks if one string is a substring of another\n",
    "\n",
    "'''Write your code here...'''"
   ]
  },
  {
   "cell_type": "code",
   "execution_count": null,
   "metadata": {},
   "outputs": [],
   "source": [
    "#Write a function that prints numbers from 1 to 50, but for multiples of 3 print \"Fizz\", for multiples of 5 print \"Buzz\", \n",
    "#and for multiples of both print \"FizzBuzz\"\n",
    "\n",
    "'''Write your code here...'''"
   ]
  },
  {
   "cell_type": "code",
   "execution_count": null,
   "metadata": {},
   "outputs": [],
   "source": [
    "#Write a function that calculates the sum of digits of a number\n",
    "\n",
    "'''Write your code here...'''"
   ]
  },
  {
   "cell_type": "code",
   "execution_count": null,
   "metadata": {},
   "outputs": [],
   "source": [
    "#Write a function that calculates the factorial of a number\n",
    "\n",
    "'''Write your code here...'''"
   ]
  },
  {
   "cell_type": "code",
   "execution_count": null,
   "metadata": {},
   "outputs": [],
   "source": [
    "#Write a function that prints all prime numbers between 1 and 50\n",
    "\n",
    "'''Write your code here...'''"
   ]
  },
  {
   "cell_type": "code",
   "execution_count": null,
   "metadata": {},
   "outputs": [],
   "source": [
    "#Write a function that finds all unique characters in a string\n",
    "\n",
    "'''Write your code here...'''"
   ]
  },
  {
   "cell_type": "markdown",
   "metadata": {},
   "source": [
    "#### Hard excercises"
   ]
  },
  {
   "cell_type": "code",
   "execution_count": null,
   "metadata": {},
   "outputs": [],
   "source": [
    "#Given an array of integers nums and an integer target, return indices of the two numbers such that they add up to\n",
    "\n",
    "'''Write your code here...'''"
   ]
  },
  {
   "cell_type": "code",
   "execution_count": null,
   "metadata": {},
   "outputs": [],
   "source": [
    "#Given a sorted array of distinct integers and a target value, return the index if the target is found. \n",
    "#If not, return the index where it would be if it were inserted in order\n",
    "\n",
    "'''Write your code here...'''"
   ]
  },
  {
   "cell_type": "code",
   "execution_count": null,
   "metadata": {},
   "outputs": [],
   "source": [
    "#You are given a large integer represented as an integer array digits, where each digits[i] is the ith digit of the integer. \n",
    "#The digits are ordered from most significant to least significant in left-to-right order. The large integer does not contain \n",
    "#any leading 0's. Increment the large integer by one and return the resulting array of digits.\n",
    "\n",
    "'''Write your code here...'''"
   ]
  }
 ],
 "metadata": {
  "kernelspec": {
   "display_name": "Python 3",
   "language": "python",
   "name": "python3"
  },
  "language_info": {
   "codemirror_mode": {
    "name": "ipython",
    "version": 3
   },
   "file_extension": ".py",
   "mimetype": "text/x-python",
   "name": "python",
   "nbconvert_exporter": "python",
   "pygments_lexer": "ipython3",
   "version": "3.10.11"
  }
 },
 "nbformat": 4,
 "nbformat_minor": 2
}
