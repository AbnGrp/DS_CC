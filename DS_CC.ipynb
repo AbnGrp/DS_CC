{
 "cells": [
  {
   "cell_type": "markdown",
   "metadata": {},
   "source": [
    "# Python Basics"
   ]
  },
  {
   "cell_type": "markdown",
   "metadata": {},
   "source": [
    "### Datatypes"
   ]
  },
  {
   "cell_type": "code",
   "execution_count": null,
   "metadata": {},
   "outputs": [],
   "source": [
    "#This is how we define an string\n",
    "\"Hello world\"\n",
    "\n",
    "#This is how we define an integer\n",
    "5\n",
    "\n",
    "#This is how we define a float\n",
    "2.0\n",
    "\n",
    "#This is how boolean datatypes look like (They also have a numeric value associated to them: True=1, False=0)\n",
    "True \n",
    "False"
   ]
  }
 ],
 "metadata": {
  "kernelspec": {
   "display_name": "Python 3",
   "language": "python",
   "name": "python3"
  },
  "language_info": {
   "name": "python",
   "version": "3.11.3"
  }
 },
 "nbformat": 4,
 "nbformat_minor": 2
}
